{
  "nbformat": 4,
  "nbformat_minor": 0,
  "metadata": {
    "colab": {
      "provenance": [],
      "toc_visible": true
    },
    "kernelspec": {
      "name": "python3",
      "display_name": "Python 3"
    },
    "language_info": {
      "name": "python"
    }
  },
  "cells": [
    {
      "cell_type": "markdown",
      "source": [
        "#Regresión Lineal"
      ],
      "metadata": {
        "id": "pSKKL7Q1lijW"
      }
    },
    {
      "cell_type": "markdown",
      "source": [
        "Universidad Nacional Autónoma de México\n",
        "\n",
        "Facultad de Estudios Superiores Acatlán\n",
        "\n",
        "Licenciatura en Ciencia de Datos\n",
        "\n",
        "Rosales Herrera Jonathan Adrian\n",
        "\n",
        "3-1724328-6\n",
        "\n",
        "23/08/2023\n",
        "\n",
        "---"
      ],
      "metadata": {
        "id": "s_xcMwmQlmdD"
      }
    },
    {
      "cell_type": "markdown",
      "source": [
        "##Objetivo\n",
        "\n",
        "El objetivo principal de este proyecto es evaluar a través de diferentes técnicas de preprocesamiento, Label Encoder, One Hot Encoder y Standard Scaler, afectan el rendimiento y la estabilidad de un modelo de regresión lineal. Se busca proporcionar una comprensión más profunda de cómo estas transformaciones de datos influyen en la capacidad del modelo para realizar predicciones precisas y cómo pueden contribuir a la convergencia y la robustez del proceso de entrenamiento.\n",
        "\n",
        "##Materiales y Métodos\n",
        "\n",
        "\n",
        "*   Conjunto de datos *datos.csv*\n",
        "*   Conjunto de datos *Salario.csv*\n",
        "*   Herramientas de Programación (Google Colaboratory)\n",
        "\n",
        "##Resumen\n",
        "\n",
        "Se implementaron diversas técnicas de preprocesamiento de datos para observar su influencia en el rendimiento de un modelo de regresión lineal. Particularmente, se examinaron los efectos de la codificación de etiquetas, la codificación one-hot y el escalamiento estándar en la calidad predictiva y la estabilidad del modelo. El estudio se llevó a cabo utilizando diferentes conjuntos de datos representativos y se compararon diferentes enfoques para evaluar sus resultados.\n",
        "\n",
        "##Antecedentes Teóricos\n",
        "\n",
        "La regresión Lineal es un método de aprendizaje supervisado que establece una relación lineal entre una o más variables predictoras y una variable objetivo. Esta ecuación se observa como una recta que se ajusta a la dispersión de los datos minimizando la suma de los cuadrados de las diferencias entre las observaciones reales y las predicciones generadas por el modelo"
      ],
      "metadata": {
        "id": "8FYB7yJJo95m"
      }
    },
    {
      "cell_type": "markdown",
      "source": [
        "##Desarrollo"
      ],
      "metadata": {
        "id": "Di1_hnPrlpEu"
      }
    },
    {
      "cell_type": "markdown",
      "source": [
        "Importamos las librerías necesarias"
      ],
      "metadata": {
        "id": "Wu5BaRMABbX6"
      }
    },
    {
      "cell_type": "code",
      "execution_count": null,
      "metadata": {
        "id": "8lJWwYLU6OCU"
      },
      "outputs": [],
      "source": [
        "import numpy as np\n",
        "import matplotlib.pyplot as plt\n",
        "import pandas as pd\n",
        "\n",
        "from sklearn.impute import SimpleImputer\n",
        "from sklearn.preprocessing import LabelEncoder, OneHotEncoder, StandardScaler\n",
        "from sklearn.compose import ColumnTransformer\n",
        "from sklearn.model_selection import train_test_split"
      ]
    },
    {
      "cell_type": "markdown",
      "source": [
        "Cargamos el conjunto de datos *datos.csv*"
      ],
      "metadata": {
        "id": "Tiacjp93BeWx"
      }
    },
    {
      "cell_type": "code",
      "source": [
        "df = pd.read_csv('/content/datos.csv')\n",
        "df"
      ],
      "metadata": {
        "id": "RDGSU9bR8N3g"
      },
      "execution_count": null,
      "outputs": []
    },
    {
      "cell_type": "markdown",
      "source": [
        "Seleccionamos el conjunto de variables X, excluyendo la variable objetivo"
      ],
      "metadata": {
        "id": "Slu_9v35BovM"
      }
    },
    {
      "cell_type": "code",
      "source": [
        "X = df.iloc[:,:-1].values\n",
        "X"
      ],
      "metadata": {
        "colab": {
          "base_uri": "https://localhost:8080/"
        },
        "id": "raBnabSR9PhI",
        "outputId": "34caa642-f059-4cba-812c-89fe268ee4aa"
      },
      "execution_count": null,
      "outputs": [
        {
          "output_type": "execute_result",
          "data": {
            "text/plain": [
              "array([['Francia', 44.0, 72000.0],\n",
              "       ['Mexico', 27.0, 48000.0],\n",
              "       ['Alemania', 30.0, 54000.0],\n",
              "       ['Mexico', 38.0, 61000.0],\n",
              "       ['Alemania', 40.0, nan],\n",
              "       ['Francia', 35.0, 58000.0],\n",
              "       ['Mexico', nan, 52000.0],\n",
              "       ['Francia', 48.0, 79000.0],\n",
              "       ['Alemania', 50.0, 83000.0],\n",
              "       ['Francia', 37.0, 67000.0]], dtype=object)"
            ]
          },
          "metadata": {},
          "execution_count": 11
        }
      ]
    },
    {
      "cell_type": "markdown",
      "source": [
        "Seleccionamos la variable objetivo"
      ],
      "metadata": {
        "id": "I3M0zTe_BwR1"
      }
    },
    {
      "cell_type": "code",
      "source": [
        "y = df.iloc[:,3].values\n",
        "y"
      ],
      "metadata": {
        "colab": {
          "base_uri": "https://localhost:8080/"
        },
        "id": "eq577vro99an",
        "outputId": "0b1aaa96-9c43-47c2-a04f-703b9c4008f0"
      },
      "execution_count": null,
      "outputs": [
        {
          "output_type": "execute_result",
          "data": {
            "text/plain": [
              "array(['No', 'Si', 'No', 'No', 'Si', 'Si', 'No', 'Si', 'No', 'Si'],\n",
              "      dtype=object)"
            ]
          },
          "metadata": {},
          "execution_count": 13
        }
      ]
    },
    {
      "cell_type": "markdown",
      "source": [
        "Imputamos las observaciones nulas con la media del campo"
      ],
      "metadata": {
        "id": "sL6GYJC6BzVW"
      }
    },
    {
      "cell_type": "code",
      "source": [
        "varImp = SimpleImputer(missing_values= np.NaN, strategy='mean')"
      ],
      "metadata": {
        "id": "GOwG5b76-Yb3"
      },
      "execution_count": null,
      "outputs": []
    },
    {
      "cell_type": "code",
      "source": [
        "varImp.fit(X[:,1:3])\n",
        "X[ : , 1:3] = varImp.transform(X[:, 1:3])\n",
        "X"
      ],
      "metadata": {
        "colab": {
          "base_uri": "https://localhost:8080/"
        },
        "id": "dY0Dw71s-8Cb",
        "outputId": "8d3a3c06-f0d4-472f-b69b-a72fe8283543"
      },
      "execution_count": null,
      "outputs": [
        {
          "output_type": "execute_result",
          "data": {
            "text/plain": [
              "array([['Francia', 44.0, 72000.0],\n",
              "       ['Mexico', 27.0, 48000.0],\n",
              "       ['Alemania', 30.0, 54000.0],\n",
              "       ['Mexico', 38.0, 61000.0],\n",
              "       ['Alemania', 40.0, 63777.77777777778],\n",
              "       ['Francia', 35.0, 58000.0],\n",
              "       ['Mexico', 38.77777777777778, 52000.0],\n",
              "       ['Francia', 48.0, 79000.0],\n",
              "       ['Alemania', 50.0, 83000.0],\n",
              "       ['Francia', 37.0, 67000.0]], dtype=object)"
            ]
          },
          "metadata": {},
          "execution_count": 26
        }
      ]
    },
    {
      "cell_type": "markdown",
      "source": [
        "Transformamos las columnas utilizando Label Encoder"
      ],
      "metadata": {
        "id": "aI_8BmKgB-hC"
      }
    },
    {
      "cell_type": "code",
      "source": [
        "lbX = LabelEncoder()\n",
        "X[:,0] = lbX.fit_transform(X[:,0])"
      ],
      "metadata": {
        "id": "rl9fGdL2_6pp"
      },
      "execution_count": null,
      "outputs": []
    },
    {
      "cell_type": "markdown",
      "source": [
        "Ahora con One Hot"
      ],
      "metadata": {
        "id": "ketJwDbKCDpM"
      }
    },
    {
      "cell_type": "code",
      "source": [
        "ct = ColumnTransformer([(\"Country\", OneHotEncoder(), [0])], remainder = 'passthrough')\n",
        "X = ct.fit_transform(X)\n",
        "X"
      ],
      "metadata": {
        "colab": {
          "base_uri": "https://localhost:8080/"
        },
        "id": "qxfTRBZ0BQ52",
        "outputId": "91063082-f80d-463e-c2eb-e533092c67ed"
      },
      "execution_count": null,
      "outputs": [
        {
          "output_type": "execute_result",
          "data": {
            "text/plain": [
              "array([[1.0, 0.0, 1.0, 0.0, 44.0, 72000.0],\n",
              "       [1.0, 0.0, 0.0, 1.0, 27.0, 48000.0],\n",
              "       [0.0, 1.0, 0.0, 0.0, 30.0, 54000.0],\n",
              "       [1.0, 0.0, 0.0, 1.0, 38.0, 61000.0],\n",
              "       [0.0, 1.0, 0.0, 0.0, 40.0, 63777.77777777778],\n",
              "       [1.0, 0.0, 1.0, 0.0, 35.0, 58000.0],\n",
              "       [1.0, 0.0, 0.0, 1.0, 38.77777777777778, 52000.0],\n",
              "       [1.0, 0.0, 1.0, 0.0, 48.0, 79000.0],\n",
              "       [0.0, 1.0, 0.0, 0.0, 50.0, 83000.0],\n",
              "       [1.0, 0.0, 1.0, 0.0, 37.0, 67000.0]], dtype=object)"
            ]
          },
          "metadata": {},
          "execution_count": 34
        }
      ]
    },
    {
      "cell_type": "markdown",
      "source": [
        "Aplicamos el Label Encoder a la variable objetivo"
      ],
      "metadata": {
        "id": "_Hxml3mcCH8I"
      }
    },
    {
      "cell_type": "code",
      "source": [
        "lby = LabelEncoder()\n",
        "y = lby.fit_transform(y)\n",
        "y"
      ],
      "metadata": {
        "colab": {
          "base_uri": "https://localhost:8080/"
        },
        "id": "8ZVPlDBNB6qO",
        "outputId": "89b2d325-7e41-4edd-ad84-156f8afc43b7"
      },
      "execution_count": null,
      "outputs": [
        {
          "output_type": "execute_result",
          "data": {
            "text/plain": [
              "array([0, 1, 0, 0, 1, 1, 0, 1, 0, 1])"
            ]
          },
          "metadata": {},
          "execution_count": 35
        }
      ]
    },
    {
      "cell_type": "markdown",
      "source": [
        "Dividimos el conjunto de datos para obtener el conjunto de entrenamiento y prueba  "
      ],
      "metadata": {
        "id": "msK0Zqd-CLzV"
      }
    },
    {
      "cell_type": "code",
      "source": [
        "X_train, X_test, y_train, y_test = train_test_split(X,y, test_size=0.2, random_state=0)"
      ],
      "metadata": {
        "id": "KQG0ft2DCx8O"
      },
      "execution_count": null,
      "outputs": []
    },
    {
      "cell_type": "markdown",
      "source": [
        "Utilizamos un escalamiento de los datos para reducir su rango de dispersión"
      ],
      "metadata": {
        "id": "CpmJKxysCUjH"
      }
    },
    {
      "cell_type": "code",
      "source": [
        "scX = StandarsScaler()\n",
        "X_train = scX.fit_transform(X_train)\n",
        "X_test = scX.transform(X_test)"
      ],
      "metadata": {
        "id": "GwVawHjJDTbM"
      },
      "execution_count": null,
      "outputs": []
    },
    {
      "cell_type": "markdown",
      "source": [
        "Finalmente, observamos los resultados"
      ],
      "metadata": {
        "id": "thFzbT-hCh-D"
      }
    },
    {
      "cell_type": "code",
      "source": [
        "X_train, X_test"
      ],
      "metadata": {
        "colab": {
          "base_uri": "https://localhost:8080/"
        },
        "id": "rI4M-ylZFcoO",
        "outputId": "a21b697b-8732-45ff-c9c8-2f8ecdfd086a"
      },
      "execution_count": null,
      "outputs": [
        {
          "output_type": "execute_result",
          "data": {
            "text/plain": [
              "(array([[0.0, 1.0, 0.0, 0.0, 40.0, 63777.77777777778],\n",
              "        [1.0, 0.0, 1.0, 0.0, 37.0, 67000.0],\n",
              "        [1.0, 0.0, 0.0, 1.0, 27.0, 48000.0],\n",
              "        [1.0, 0.0, 0.0, 1.0, 38.77777777777778, 52000.0],\n",
              "        [1.0, 0.0, 1.0, 0.0, 48.0, 79000.0],\n",
              "        [1.0, 0.0, 0.0, 1.0, 38.0, 61000.0],\n",
              "        [1.0, 0.0, 1.0, 0.0, 44.0, 72000.0],\n",
              "        [1.0, 0.0, 1.0, 0.0, 35.0, 58000.0]], dtype=object),\n",
              " array([[0.0, 1.0, 0.0, 0.0, 30.0, 54000.0],\n",
              "        [0.0, 1.0, 0.0, 0.0, 50.0, 83000.0]], dtype=object))"
            ]
          },
          "metadata": {},
          "execution_count": 41
        }
      ]
    },
    {
      "cell_type": "markdown",
      "source": [
        "Importamos las librerías necesarias para implementar la **regresión lineal**"
      ],
      "metadata": {
        "id": "tD4n2N2IHi8d"
      }
    },
    {
      "cell_type": "code",
      "source": [
        "import numpy as np\n",
        "import matplotlib.pyplot as plt\n",
        "import pandas as pd\n",
        "\n",
        "from sklearn.model_selection import train_test_split\n",
        "from sklearn.linear_model import LinearRegression"
      ],
      "metadata": {
        "id": "8CTFgHo5If0m"
      },
      "execution_count": null,
      "outputs": []
    },
    {
      "cell_type": "markdown",
      "source": [
        "Cargamos el conjunto de datos *Salario.csv*"
      ],
      "metadata": {
        "id": "CL6OeXMjCxXc"
      }
    },
    {
      "cell_type": "code",
      "source": [
        "df = pd.read_csv('/content/Salario.csv')"
      ],
      "metadata": {
        "id": "G85uHyt4F2B9"
      },
      "execution_count": null,
      "outputs": []
    },
    {
      "cell_type": "markdown",
      "source": [
        "Seleccionamos el conjunto de variables y\n",
        "lavariable objetivo"
      ],
      "metadata": {
        "id": "xJ32jhaNC2x7"
      }
    },
    {
      "cell_type": "code",
      "source": [
        "X = df.iloc[:,:-1].values\n",
        "y = df.iloc[:,1].values"
      ],
      "metadata": {
        "id": "5Ugb2Yp3JPVE"
      },
      "execution_count": null,
      "outputs": []
    },
    {
      "cell_type": "markdown",
      "source": [
        "Dividimos en conjunto de entrenamiento y prueba"
      ],
      "metadata": {
        "id": "V8l_hS4KDCpw"
      }
    },
    {
      "cell_type": "code",
      "source": [
        "X_train, X_test, y_train, y_test = train_test_split(X,y,test_size=1/3, random_state=0)"
      ],
      "metadata": {
        "id": "-ATDwmUnJfAt"
      },
      "execution_count": null,
      "outputs": []
    },
    {
      "cell_type": "markdown",
      "source": [
        "Creamos una variable de regresión lineal"
      ],
      "metadata": {
        "id": "eLY7U6AlDF8d"
      }
    },
    {
      "cell_type": "code",
      "source": [
        "linreg = LinearRegression()\n",
        "linreg.fit(X_train, y_train)"
      ],
      "metadata": {
        "colab": {
          "base_uri": "https://localhost:8080/",
          "height": 76
        },
        "id": "jmt86bSOJy17",
        "outputId": "d6dc61b5-9044-46f9-fbd1-0b8d81593c7e"
      },
      "execution_count": null,
      "outputs": [
        {
          "output_type": "execute_result",
          "data": {
            "text/plain": [
              "LinearRegression()"
            ],
            "text/html": [
              "<style>#sk-container-id-1 {color: black;background-color: white;}#sk-container-id-1 pre{padding: 0;}#sk-container-id-1 div.sk-toggleable {background-color: white;}#sk-container-id-1 label.sk-toggleable__label {cursor: pointer;display: block;width: 100%;margin-bottom: 0;padding: 0.3em;box-sizing: border-box;text-align: center;}#sk-container-id-1 label.sk-toggleable__label-arrow:before {content: \"▸\";float: left;margin-right: 0.25em;color: #696969;}#sk-container-id-1 label.sk-toggleable__label-arrow:hover:before {color: black;}#sk-container-id-1 div.sk-estimator:hover label.sk-toggleable__label-arrow:before {color: black;}#sk-container-id-1 div.sk-toggleable__content {max-height: 0;max-width: 0;overflow: hidden;text-align: left;background-color: #f0f8ff;}#sk-container-id-1 div.sk-toggleable__content pre {margin: 0.2em;color: black;border-radius: 0.25em;background-color: #f0f8ff;}#sk-container-id-1 input.sk-toggleable__control:checked~div.sk-toggleable__content {max-height: 200px;max-width: 100%;overflow: auto;}#sk-container-id-1 input.sk-toggleable__control:checked~label.sk-toggleable__label-arrow:before {content: \"▾\";}#sk-container-id-1 div.sk-estimator input.sk-toggleable__control:checked~label.sk-toggleable__label {background-color: #d4ebff;}#sk-container-id-1 div.sk-label input.sk-toggleable__control:checked~label.sk-toggleable__label {background-color: #d4ebff;}#sk-container-id-1 input.sk-hidden--visually {border: 0;clip: rect(1px 1px 1px 1px);clip: rect(1px, 1px, 1px, 1px);height: 1px;margin: -1px;overflow: hidden;padding: 0;position: absolute;width: 1px;}#sk-container-id-1 div.sk-estimator {font-family: monospace;background-color: #f0f8ff;border: 1px dotted black;border-radius: 0.25em;box-sizing: border-box;margin-bottom: 0.5em;}#sk-container-id-1 div.sk-estimator:hover {background-color: #d4ebff;}#sk-container-id-1 div.sk-parallel-item::after {content: \"\";width: 100%;border-bottom: 1px solid gray;flex-grow: 1;}#sk-container-id-1 div.sk-label:hover label.sk-toggleable__label {background-color: #d4ebff;}#sk-container-id-1 div.sk-serial::before {content: \"\";position: absolute;border-left: 1px solid gray;box-sizing: border-box;top: 0;bottom: 0;left: 50%;z-index: 0;}#sk-container-id-1 div.sk-serial {display: flex;flex-direction: column;align-items: center;background-color: white;padding-right: 0.2em;padding-left: 0.2em;position: relative;}#sk-container-id-1 div.sk-item {position: relative;z-index: 1;}#sk-container-id-1 div.sk-parallel {display: flex;align-items: stretch;justify-content: center;background-color: white;position: relative;}#sk-container-id-1 div.sk-item::before, #sk-container-id-1 div.sk-parallel-item::before {content: \"\";position: absolute;border-left: 1px solid gray;box-sizing: border-box;top: 0;bottom: 0;left: 50%;z-index: -1;}#sk-container-id-1 div.sk-parallel-item {display: flex;flex-direction: column;z-index: 1;position: relative;background-color: white;}#sk-container-id-1 div.sk-parallel-item:first-child::after {align-self: flex-end;width: 50%;}#sk-container-id-1 div.sk-parallel-item:last-child::after {align-self: flex-start;width: 50%;}#sk-container-id-1 div.sk-parallel-item:only-child::after {width: 0;}#sk-container-id-1 div.sk-dashed-wrapped {border: 1px dashed gray;margin: 0 0.4em 0.5em 0.4em;box-sizing: border-box;padding-bottom: 0.4em;background-color: white;}#sk-container-id-1 div.sk-label label {font-family: monospace;font-weight: bold;display: inline-block;line-height: 1.2em;}#sk-container-id-1 div.sk-label-container {text-align: center;}#sk-container-id-1 div.sk-container {/* jupyter's `normalize.less` sets `[hidden] { display: none; }` but bootstrap.min.css set `[hidden] { display: none !important; }` so we also need the `!important` here to be able to override the default hidden behavior on the sphinx rendered scikit-learn.org. See: https://github.com/scikit-learn/scikit-learn/issues/21755 */display: inline-block !important;position: relative;}#sk-container-id-1 div.sk-text-repr-fallback {display: none;}</style><div id=\"sk-container-id-1\" class=\"sk-top-container\"><div class=\"sk-text-repr-fallback\"><pre>LinearRegression()</pre><b>In a Jupyter environment, please rerun this cell to show the HTML representation or trust the notebook. <br />On GitHub, the HTML representation is unable to render, please try loading this page with nbviewer.org.</b></div><div class=\"sk-container\" hidden><div class=\"sk-item\"><div class=\"sk-estimator sk-toggleable\"><input class=\"sk-toggleable__control sk-hidden--visually\" id=\"sk-estimator-id-1\" type=\"checkbox\" checked><label for=\"sk-estimator-id-1\" class=\"sk-toggleable__label sk-toggleable__label-arrow\">LinearRegression</label><div class=\"sk-toggleable__content\"><pre>LinearRegression()</pre></div></div></div></div></div>"
            ]
          },
          "metadata": {},
          "execution_count": 49
        }
      ]
    },
    {
      "cell_type": "markdown",
      "source": [
        "Creamos una predicción de la variable objetivo"
      ],
      "metadata": {
        "id": "vZ7oR32ADOXC"
      }
    },
    {
      "cell_type": "code",
      "source": [
        "y_pred = linreg.predict(X_test)\n",
        "y_pred"
      ],
      "metadata": {
        "colab": {
          "base_uri": "https://localhost:8080/"
        },
        "id": "Y2IHAdtrKPvF",
        "outputId": "1c973d98-100c-4c45-eb44-00e36c1b05ca"
      },
      "execution_count": null,
      "outputs": [
        {
          "output_type": "execute_result",
          "data": {
            "text/plain": [
              "array([ 40835.10590871, 123079.39940819,  65134.55626083,  63265.36777221,\n",
              "       115602.64545369, 108125.8914992 , 116537.23969801,  64199.96201652,\n",
              "        76349.68719258, 100649.1375447 ])"
            ]
          },
          "metadata": {},
          "execution_count": 53
        }
      ]
    },
    {
      "cell_type": "markdown",
      "source": [
        "Creamos una visualización de los datos reales y aquellos obtenidos con la predicción para comparar los resultados"
      ],
      "metadata": {
        "id": "llJgncqQDTkj"
      }
    },
    {
      "cell_type": "code",
      "source": [
        "plt.scatter(X_train, y_train, color=\"red\")\n",
        "\n",
        "plt.plot(X_train, linreg.predict(X_train), color=\"blue\")\n",
        "plt.title(\"Sueldo y años de experiencia utilizando el conjunto de entrenamiento\")\n",
        "plt.xlabel(\"Años de experiencia\")\n",
        "plt.ylabel(\"Ingresos\")\n",
        "plt.show()"
      ],
      "metadata": {
        "colab": {
          "base_uri": "https://localhost:8080/",
          "height": 472
        },
        "id": "jhFuXvJ9KfnW",
        "outputId": "2fc9f9c3-3547-405f-d8ff-5f8a34025ce4"
      },
      "execution_count": null,
      "outputs": [
        {
          "output_type": "display_data",
          "data": {
            "text/plain": [
              "<Figure size 640x480 with 1 Axes>"
            ],
            "image/png": "[encoded data removed]"
          },
          "metadata": {}
        }
      ]
    },
    {
      "cell_type": "code",
      "source": [
        "plt.scatter(X_test, y_test, color=\"red\")\n",
        "\n",
        "plt.plot(X_test, linreg.predict(X_test), color=\"blue\")\n",
        "plt.title(\"Sueldo y años de experiencia utilizando el conjunto de prueba\")\n",
        "plt.xlabel(\"Años de experiencia\")\n",
        "plt.ylabel(\"Ingresos\")\n",
        "plt.show()"
      ],
      "metadata": {
        "colab": {
          "base_uri": "https://localhost:8080/",
          "height": 472
        },
        "id": "AgV55xfqLP_L",
        "outputId": "ba34fd1c-3b67-4a1d-96c5-508af306dd5f"
      },
      "execution_count": null,
      "outputs": [
        {
          "output_type": "display_data",
          "data": {
            "text/plain": [
              "<Figure size 640x480 with 1 Axes>"
            ],
            "image/png": "[encoded data removed]"
          },
          "metadata": {}
        }
      ]
    },
    {
      "cell_type": "markdown",
      "source": [
        "##Conclusiones\n",
        "Se demuestra el impacto significativo que genera en el modelo un preprocesamiento de datos adecuado a través de técnicas como one hot y el escalamiento de datos resaltando la importancia de determinar adecaudamente la técnica que se implementará dependiendo de la naturaleza de la variable en el conjunto de datos."
      ],
      "metadata": {
        "id": "qcow9_PoqTFY"
      }
    },
    {
      "cell_type": "markdown",
      "source": [
        "##Referencias\n",
        "\n",
        "*    IBM. (2018). Regresión lineal. https://www.ibm.com/mx-es/analytics/learn/linear-regression\n",
        "\n"
      ],
      "metadata": {
        "id": "34BBP-5uqXB1"
      }
    },
    {
      "cell_type": "code",
      "source": [],
      "metadata": {
        "id": "Gh_A_lKsq0Io"
      },
      "execution_count": null,
      "outputs": []
    }
  ]
}